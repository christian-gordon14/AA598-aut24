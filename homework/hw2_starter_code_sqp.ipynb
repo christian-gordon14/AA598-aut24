{
 "cells": [
  {
   "cell_type": "code",
   "execution_count": 34,
   "metadata": {},
   "outputs": [],
   "source": [
    "# Homework 2 libs\n",
    "import jax.numpy as jnp\n",
    "import jax\n",
    "import numpy as np\n",
    "import matplotlib.pyplot as plt\n",
    "import pickle # for the project\n",
    "\n",
    "from aa598.hw2_helper import simulate_dynamics\n",
    "import cvxpy as cp\n",
    "from cbfax.dynamics import *\n",
    "\n",
    "# Homework 1 libs\n",
    "import torch\n",
    "from torch.utils.data import Dataset\n",
    "from torch.utils.data import DataLoader\n",
    "import torch.nn.functional as F\n",
    "\n",
    "from ipywidgets import interact, interactive, fixed, interact_manual\n",
    "import ipywidgets as widgets\n",
    "\n",
    "import aa598.hw1_helper as hw1_helper\n",
    "\n",
    "\n",
    "from matplotlib import rc\n",
    "rc('font',**{'family':'serif','serif':['Palatino']})\n",
    "rc('text', usetex=False) # set to False if latex is not set up on your computer\n"
   ]
  },
  {
   "cell_type": "code",
   "execution_count": 35,
   "metadata": {},
   "outputs": [],
   "source": [
    "robot = DynamicallyExtendedSimpleCar() # robot dynamics\n",
    "human = DynamicallyExtendedSimpleCar() # human dynamics\n",
    "\n",
    "@jax.jit\n",
    "def obstacle_constraint(state, obstacle, radius):\n",
    "    return jnp.linalg.norm(state[:2] - obstacle[:2]) - radius\n"
   ]
  },
  {
   "cell_type": "code",
   "execution_count": 36,
   "metadata": {},
   "outputs": [],
   "source": [
    "planning_horizon = 25\n",
    "num_time_steps = 30\n",
    "num_sqp_iterations = 15\n",
    "dt = 0.1\n",
    "t = 0. # this doesn't affect anything, but a value is needed \n",
    "radius = 1. # minimum collision distance\n",
    "\n",
    "v_max = 1.5\n",
    "v_min = 0.\n",
    "acceleration_max = 1.0\n",
    "acceleration_min = -1.0\n",
    "steering_max = 0.3\n",
    "steering_min = -0.3\n",
    "\n",
    "human_control_prediction_noise_limit = 0.25\n",
    "human_control_prediction_variance = 0.25\n"
   ]
  },
  {
   "cell_type": "code",
   "execution_count": 37,
   "metadata": {},
   "outputs": [],
   "source": [
    "xs = cp.Variable([planning_horizon+1, robot.state_dim])  # cvx variable for states\n",
    "us = cp.Variable([planning_horizon, robot.control_dim])  # cvx variable for controls\n",
    "slack = cp.Variable(1) # slack variable to make sure the problem is feasible\n",
    "As = [cp.Parameter([robot.state_dim, robot.state_dim]) for _ in range(planning_horizon)]  # parameters for linearized dynamics\n",
    "Bs = [cp.Parameter([robot.state_dim, robot.control_dim]) for _ in range(planning_horizon)] # parameters for linearized dynamics\n",
    "Cs = [cp.Parameter([robot.state_dim]) for _ in range(planning_horizon)] # parameters for linearized dynamics\n",
    "\n",
    "Gs = [cp.Parameter([robot.state_dim]) for _ in range(planning_horizon+1)] # parameters for linearized constraints\n",
    "hs = [cp.Parameter(1) for _ in range(planning_horizon+1)] # parameters for linearized constraints\n",
    "\n",
    "xs_previous = cp.Parameter([planning_horizon+1, robot.state_dim]) # parameter for previous solution\n",
    "us_previous = cp.Parameter([planning_horizon, robot.control_dim]) # parameter for previous solution\n",
    "initial_state = cp.Parameter([robot.state_dim]) # parameter for current robot state\n",
    "\n"
   ]
  },
  {
   "cell_type": "code",
   "execution_count": 38,
   "metadata": {},
   "outputs": [],
   "source": [
    "beta1 = 0.2 # coefficient for control effort\n",
    "beta2 = 2. # coefficient for progress\n",
    "beta3 = 10. # coefficient for trust region\n",
    "slack_penalty = 1000. # coefficient for slack variable\n",
    "markup = 1.0\n",
    "\n",
    "objective = beta2 * (xs[-1,2]**2 + xs[-1,1]**2 - xs[-1,0]) + beta3 * (cp.sum_squares(xs - xs_previous) + cp.sum_squares(us - us_previous)) + slack_penalty * slack**2\n",
    "constraints = [xs[0] == initial_state, slack >= 0] # initial state and slack constraint\n",
    "for t in range(planning_horizon):\n",
    "    objective += beta1 * cp.sum_squares(us[t]) * markup**t\n",
    "    constraints += [xs[t+1] == As[t] @ xs[t] + Bs[t] @ us[t] + Cs[t]] # dynamics constraint\n",
    "    constraints += [xs[t,-1] <= v_max, xs[t,-1] >= v_min, us[t,0] <= acceleration_max, us[t,0] >= acceleration_min, us[t,1] <= steering_max, us[t,1] >= steering_min] # control limit constraints\n",
    "    constraints += [Gs[t] @ xs[t] + hs[t] >= -slack] # linearized collision avoidance constraint\n",
    "constraints += [xs[planning_horizon,-1] <= v_max, xs[planning_horizon,-1] >= v_min, Gs[planning_horizon] @ xs[planning_horizon] + hs[planning_horizon] >= 0] # constraints for last planning horizon step\n",
    "prob = cp.Problem(cp.Minimize(objective), constraints) # construct problem\n",
    "    \n"
   ]
  },
  {
   "cell_type": "code",
   "execution_count": 39,
   "metadata": {},
   "outputs": [],
   "source": [
    "# initial states\n",
    "robot_state = jnp.array([-3.0, -0., 0., 1.])  # robot starting state\n",
    "human_state = jnp.array([-1., -2., jnp.pi/2, 1.]) # human starting state\n",
    "\n",
    "robot_trajectory = [robot_state] # list to collect robot's state as it replans\n",
    "human_trajectory = [human_state] # list to collect humans's state\n",
    "robot_control_list = []  # list to collect robot's constrols as it replans\n",
    "robot_trajectory_list = [] # list to collect robot's planned trajectories\n",
    "human_control_list = []\n",
    "\n",
    "# initial robot planned state and controls\n",
    "previous_controls = jnp.zeros([planning_horizon, robot.control_dim]) # initial guess for robot controls\n",
    "previous_states =  simulate_dynamics(robot, robot_state, previous_controls, dt) # initial guess for robot states\n",
    "xs_previous.value = np.array(previous_states) # set xs_previous parameter value\n",
    "us_previous.value = np.array(previous_controls) # set us_previous parameter value \n",
    "\n",
    "# jit the linearize dynamics and constraint functions to make it run faster\n",
    "linearize_dynamics = jax.jit(lambda states, controls, ti: jax.vmap(linearize, [None, 0, 0, None])(lambda s, c, t: robot.discrete_step(s, c, t, dt), states, controls, ti))\n",
    "linearize_obstacle = jax.jit(lambda states, controls, radius: jax.vmap(jax.grad(obstacle_constraint), [0, 0, None])(states, controls, radius))"
   ]
  },
  {
   "cell_type": "code",
   "execution_count": 40,
   "metadata": {},
   "outputs": [
    {
     "name": "stdout",
     "output_type": "stream",
     "text": [
      "timestep: 0\n",
      "timestep: 1\n",
      "timestep: 2\n",
      "timestep: 3\n",
      "timestep: 4\n",
      "timestep: 5\n",
      "timestep: 6\n",
      "timestep: 7\n",
      "timestep: 8\n",
      "timestep: 9\n",
      "timestep: 10\n",
      "timestep: 11\n",
      "timestep: 12\n",
      "timestep: 13\n",
      "timestep: 14\n",
      "timestep: 15\n",
      "timestep: 16\n",
      "timestep: 17\n",
      "timestep: 18\n",
      "timestep: 19\n",
      "timestep: 20\n",
      "timestep: 21\n",
      "timestep: 22\n",
      "timestep: 23\n",
      "timestep: 24\n",
      "timestep: 25\n",
      "timestep: 26\n",
      "timestep: 27\n",
      "timestep: 28\n",
      "timestep: 29\n"
     ]
    }
   ],
   "source": [
    "solver = cp.CLARABEL\n",
    "\n",
    "for t in range(num_time_steps):\n",
    "    print(\"timestep: %i\"% t)\n",
    "    initial_state.value = np.array(robot_state)\n",
    "    # simulate human future trajectory, assuming some noisy behavior\n",
    "    noisy_human_control = jnp.clip(jnp.array(np.random.randn(planning_horizon, human.control_dim) * human_control_prediction_variance), -human_control_prediction_noise_limit, human_control_prediction_noise_limit)\n",
    "    human_future = simulate_dynamics(human, human_state, noisy_human_control, dt)\n",
    "    \n",
    "    for i in range(num_sqp_iterations):\n",
    "        # As_value, Bs_value, Cs_value = jax.vmap(linearize, [None, 0, 0, None])(lambda s, c, t: robot.discrete_step(s, c, t, dt), previous_states[:-1], previous_controls, t)\n",
    "        As_value, Bs_value, Cs_value = linearize_dynamics( previous_states[:-1], previous_controls, t)\n",
    "        # Gs_value = jax.vmap(jax.grad(obstacle_constraint), [0, 0, None])(previous_states, human_future, radius)\n",
    "        Gs_value = linearize_obstacle(previous_states, human_future, radius)\n",
    "        hs_value = jax.vmap(obstacle_constraint, [0, 0, None])(previous_states, human_future, radius) - jax.vmap(jnp.dot, [0, 0])(Gs_value, previous_states)\n",
    "\n",
    "        for i in range(planning_horizon):\n",
    "            As[i].value = np.array(As_value[i])\n",
    "            Bs[i].value = np.array(Bs_value[i])\n",
    "            Cs[i].value = np.array(Cs_value[i])\n",
    "            Gs[i].value = np.array(Gs_value[i])\n",
    "            hs[i].value = np.array(hs_value[i:i+1])\n",
    "        Gs[planning_horizon].value = np.array(Gs_value[planning_horizon])\n",
    "        hs[planning_horizon].value = np.array(hs_value[planning_horizon:planning_horizon+1])\n",
    "        \n",
    "        result = prob.solve(solver=solver)\n",
    "\n",
    "        # previous_states = xs.value\n",
    "        previous_controls = us.value\n",
    "        previous_states =  simulate_dynamics(robot, robot_state, previous_controls, dt)\n",
    "        xs_previous.value = np.array(previous_states)\n",
    "        us_previous.value = np.array(previous_controls)\n",
    "       \n",
    "    robot_control = previous_controls[0]\n",
    "    robot_control_list.append(robot_control)\n",
    "    # robot takes a step\n",
    "    robot_state = robot.discrete_step(robot_state, robot_control, 0., dt)\n",
    "    robot_trajectory.append(robot_state)\n",
    "    robot_trajectory_list.append(previous_states)\n",
    "\n",
    "    \n",
    "    human_random_control = jnp.clip(jnp.array(np.random.randn( human.control_dim) * human_control_prediction_variance), -human_control_prediction_noise_limit, human_control_prediction_noise_limit)\n",
    "    human_control_list.append(human_random_control)\n",
    "    # human states a step\n",
    "    human_state = human.discrete_step(human_state, human_random_control, 0., dt)\n",
    "    human_trajectory.append(human_state)\n",
    "\n",
    "human_traj = [human_trajectory]\n",
    "human_random_cont = (human_random_control)\n",
    "robot_trajectory = jnp.stack(robot_trajectory)\n",
    "human_trajectory = jnp.stack(human_trajectory)\n",
    "robot_controls = jnp.stack(robot_control_list)\n",
    "human_controls = jnp.stack(human_control_list)\n",
    "\n",
    "\n",
    "\n",
    "\n",
    "# #Project code\n",
    "# history_trajectory = jnp.array([robot_trajectory], [robot_control_list],[human_trajectory], [human_random_control])\n",
    "# with open('history.pickle', 'wb') as f:\n",
    "#     # Pickle the 'data' dictionary using the highest protocol available.\n",
    "#     pickle.dump(history_trajectory, f, pickle.HIGHEST_PROTOCOL)\n",
    "# with open('future.pickle', 'wb') as f:\n",
    "#     # Pickle the 'data' dictionary using the highest protocol available.\n",
    "#     pickle.dump(singleTrainData, f, pickle.HIGHEST_PROTOCOL)\n",
    "\n",
    "\n",
    "# # Training data\n",
    "# trajectoryTrainingData = {'xPosition' : robot_trajectory[:-5, 0], 'yPosition' : robot_trajectory[:-5, 1],\n",
    "#         'heading' : robot_trajectory[:-5, 2], 'velocity' : robot_trajectory[:-5, 3]}\n",
    "# with open('robot_trajectory_train_v3.pickle', 'wb') as f:\n",
    "#     # Pickle the 'data' dictionary using the highest protocol available.\n",
    "#     pickle.dump(trajectoryTrainingData, f, pickle.HIGHEST_PROTOCOL)\n",
    "# # Testing data\n",
    "# trajectoryTestingData = {'xPosition' : robot_trajectory[-5:, 0], 'yPosition' : robot_trajectory[-5:, 1],\n",
    "#         'heading' : robot_trajectory[-5:, 2], 'velocity' : robot_trajectory[-5:, 3]}\n",
    "# with open('robot_trajectory_test_v3.pickle', 'wb') as f:\n",
    "#     # Pickle the 'data' dictionary using the highest protocol available.\n",
    "#     pickle.dump(trajectoryTestingData, f, pickle.HIGHEST_PROTOCOL)\n",
    "    "
   ]
  },
  {
   "cell_type": "code",
   "execution_count": 42,
   "metadata": {},
   "outputs": [
    {
     "data": {
      "application/vnd.jupyter.widget-view+json": {
       "model_id": "570f1c80dd834734b296d623b997762c",
       "version_major": 2,
       "version_minor": 0
      },
      "text/plain": [
       "interactive(children=(IntSlider(value=14, description='i', max=29), Output()), _dom_classes=('widget-interact'…"
      ]
     },
     "metadata": {},
     "output_type": "display_data"
    }
   ],
   "source": [
    "# plotting\n",
    "@interact(i=(0,num_time_steps-1))\n",
    "def plot(i):\n",
    "    fig, axs = plt.subplots(1,2, figsize=(18,8))\n",
    "    ax = axs[0]\n",
    "    robot_position = robot_trajectory[i, :2]\n",
    "    human_position = human_trajectory[i, :2]\n",
    "    circle1 = plt.Circle(robot_position, radius / 2, color='C0', alpha=0.4)\n",
    "    circle2 = plt.Circle(human_position, radius / 2, color='C1', alpha=0.4)\n",
    "    ax.add_patch(circle1)\n",
    "    ax.add_patch(circle2)\n",
    "    # ax.plot(human_samples[i,:,:,0].T, human_samples[i,:,:,1].T, \"o-\", alpha=0.1, markersize=2, color='C1')\n",
    "    ax.plot(robot_trajectory[:,0], robot_trajectory[:,1], \"o-\", markersize=3, color='C0')\n",
    "    ax.plot(robot_trajectory_list[i][:,0], robot_trajectory_list[i][:,1], \"o-\", markersize=3, color='C2', label=\"planned\")\n",
    "    print(robot_trajectory[i])\n",
    "\n",
    "    ax.plot(human_trajectory[:,0], human_trajectory[:,1], \"o-\", markersize=3, color='C1')\n",
    "    ax.scatter(robot_trajectory[i:i+1,0], robot_trajectory[i:i+1,1], s=30,  color='C0', label=\"Robot\")\n",
    "    ax.scatter(human_trajectory[i:i+1,0], human_trajectory[i:i+1,1], s=30,  color='C1', label=\"Human\")\n",
    "    ax.grid()\n",
    "    ax.legend()\n",
    "\n",
    "    ax.set_xlim([-4,4])\n",
    "    ax.set_ylim([-3, 2])\n",
    "    ax.axis(\"equal\")\n",
    "\n",
    "    ax.set_title(\"heading=%.2f velocity=%.2f\"%(robot_trajectory[i,2], robot_trajectory[i,3]))\n",
    "    \n",
    "    ax = axs[1]\n",
    "    plt.plot(robot_controls)\n",
    "    plt.scatter([i], robot_controls[i:i+1, 0], label=\"Acceleration\")\n",
    "    plt.scatter([i], robot_controls[i:i+1, 1], label=\"Steering\")\n",
    "    ax.plot(robot_trajectory[:,-1], \"o-\", markersize=3, color='C0', label=\"Velocity\")\n",
    "\n",
    "    ax.legend()\n",
    "    ax.grid()\n",
    "    "
   ]
  },
  {
   "cell_type": "code",
   "execution_count": 43,
   "metadata": {},
   "outputs": [
    {
     "name": "stdout",
     "output_type": "stream",
     "text": [
      "[[-0.77215546 -0.8842893  -0.9601989  -0.9967745  -0.99251807]\n",
      " [-0.33736357 -0.6201609  -0.83809453 -0.96837014 -0.99736214]\n",
      " [-0.9241497  -0.9772044  -0.9993569  -0.98990667 -0.9491525 ]\n",
      " ...\n",
      " [ 0.8635387   0.84961313  0.8350685   0.8199155   0.80416495]\n",
      " [-0.78483945 -0.86998636 -0.934877   -0.9780004  -0.9983526 ]\n",
      " [ 0.9903264   0.98666096  0.8932651   0.7186327   0.47864532]]\n"
     ]
    }
   ],
   "source": [
    "with open(\"data/hw1/wave_data_train.pickle\", 'rb') as handle:\n",
    "    wave_data = pickle.load(handle)\n",
    "history = wave_data[\"history\"]\n",
    "future = wave_data[\"future\"]\n",
    "print((future))"
   ]
  },
  {
   "cell_type": "code",
   "execution_count": 44,
   "metadata": {
    "scrolled": true
   },
   "outputs": [
    {
     "name": "stdout",
     "output_type": "stream",
     "text": [
      "<class 'numpy.ndarray'>\n"
     ]
    }
   ],
   "source": [
    "zero_row = jnp.zeros((1, 2))\n",
    "if (robot_controls[0] != 0).all():\n",
    "    robot_controls = jnp.vstack([zero_row, robot_controls])\n",
    "if (human_controls[0] != 0).all():\n",
    "    human_controls = jnp.vstack([zero_row, human_controls])\n",
    "\n",
    "totalMatrix = jnp.concatenate([robot_trajectory, robot_controls, human_trajectory, human_controls], axis = 1) \n",
    "# standardMatrix = jax.nn.standardize(totalMatrix)\n",
    "totalMatrix = np.array(totalMatrix)\n",
    "print(type(totalMatrix))"
   ]
  },
  {
   "cell_type": "code",
   "execution_count": 45,
   "metadata": {},
   "outputs": [
    {
     "name": "stdout",
     "output_type": "stream",
     "text": [
      "[-1.5973402  -0.11299384 -0.06318497  0.5539429   0.23945051  0.07150198\n",
      " -1.101018    1.1584742   1.6394137   1.043159    0.25       -0.22132698]\n"
     ]
    }
   ],
   "source": [
    "print(totalMatrix[-1, :])"
   ]
  },
  {
   "cell_type": "code",
   "execution_count": 46,
   "metadata": {},
   "outputs": [
    {
     "name": "stdout",
     "output_type": "stream",
     "text": [
      "[[0.54116279 0.15551187 0.21744933 0.37292977]\n",
      " [0.51762252 0.30367043 0.72263538 0.81886209]\n",
      " [0.7259154  0.571052   0.8778375  0.42623151]\n",
      " [0.22647988 0.80727154 0.25902346 0.23710195]]\n"
     ]
    }
   ],
   "source": [
    "A = np.random.rand(4, 4)\n",
    "print(A)"
   ]
  },
  {
   "cell_type": "code",
   "execution_count": 47,
   "metadata": {},
   "outputs": [],
   "source": [
    "new_data = np.delete(A, [1, 2], axis=1)\n",
    "# \n",
    "# print(np.size(totalMatrix))\n",
    "# print(totalMatrix[:, 4:6])\n",
    "onlyHistoryData = np.delete(totalMatrix, [4, 6], axis = 1) # deleting the 4, 5 row because this is 'x'\n",
    "onlyTestData = (totalMatrix[:, 4:6])\n",
    "train_data_history = np.transpose(onlyHistoryData[:15, :])\n",
    "train_data_future = np.transpose(onlyTestData[:15, :])\n",
    "test_data_history = np.transpose(onlyHistoryData[:15, :])\n",
    "test_data_future = np.transpose(onlyTestData[15:, :])\n",
    "train_data = {'history' : train_data_history, 'future' : train_data_future}\n",
    "test_data = {'history' : test_data_history, 'future' : test_data_future}\n",
    "# print(len(train_data['history']))\n",
    "# print(train_data['future'])\n",
    "# print(len(train_data['history']))\n",
    "# print((test_data['future']))"
   ]
  },
  {
   "cell_type": "code",
   "execution_count": 48,
   "metadata": {},
   "outputs": [],
   "source": [
    "# This will be the training data\n",
    "with open('train.pickle', 'wb') as f:\n",
    "    # Pickle the 'data' dictionary using the highest protocol available.\n",
    "    pickle.dump(train_data, f, pickle.HIGHEST_PROTOCOL)\n",
    "# This will be the testing data\n",
    "with open('test.pickle', 'wb') as f:\n",
    "    # Pickle the 'data' dictionary using the highest protocol available.\n",
    "    pickle.dump(test_data, f, pickle.HIGHEST_PROTOCOL)\n",
    "# When training will have to leave out the testing robot controls"
   ]
  },
  {
   "cell_type": "code",
   "execution_count": 49,
   "metadata": {},
   "outputs": [],
   "source": [
    "with open(\"train.pickle\", 'rb') as handle:\n",
    "    train = pickle.load(handle)\n",
    "with open(\"test.pickle\", 'rb') as handle:\n",
    "    test = pickle.load(handle)\n",
    "# print((test.shape))\n",
    "# print((train.shape))"
   ]
  },
  {
   "cell_type": "code",
   "execution_count": 50,
   "metadata": {},
   "outputs": [
    {
     "data": {
      "image/png": "[encoded data removed]",
      "text/plain": [
       "<Figure size 640x480 with 1 Axes>"
      ]
     },
     "metadata": {},
     "output_type": "display_data"
    }
   ],
   "source": [
    "t = np.arange(0,31)\n",
    "# print((totalMatrix))\n",
    "# plt.plot(t, standardMatrix[0:31, 0], color  = 'r') # Robot controls\n",
    "# plt.plot(t, standardMatrix[0:31, 6], color  = 'b') # Human controls\n",
    "plt.plot(t, totalMatrix[0:31, 0], color  = 'y') # Robot controls\n",
    "plt.plot(t, totalMatrix[0:31, 6], color  = 'g') # Human controls\n",
    "plt.grid()"
   ]
  },
  {
   "cell_type": "markdown",
   "metadata": {},
   "source": [
    "## LSTM"
   ]
  },
  {
   "cell_type": "code",
   "execution_count": 56,
   "metadata": {},
   "outputs": [],
   "source": [
    "# feel free to poke around the data\n",
    "# THIS NEEDS TO BE REVIEWED\n",
    "test_data = hw1_helper.TrajectoryData(\"test\")\n",
    "train_data = hw1_helper.TrajectoryData(\"train\")\n",
    "\n",
    "\n",
    "history_length = 3 # Number of backward steps considered to train\n",
    "future_length = 3 # Number of forward considered to train\n",
    "input_size = 10\n",
    "output_size = 10\n"
   ]
  },
  {
   "cell_type": "code",
   "execution_count": 60,
   "metadata": {},
   "outputs": [
    {
     "name": "stdout",
     "output_type": "stream",
     "text": [
      "(500, 10)\n",
      "<class 'dict'>\n",
      "(tensor([-0.0039,  0.0352]), tensor([-3.0000, -0.0000,  0.0000,  1.0000,  0.0000, -2.0000,  1.5708,  1.0000,\n",
      "         0.0000,  0.0000]))\n"
     ]
    }
   ],
   "source": [
    "with open(\"data/hw1/wave_data_test.pickle\", 'rb') as handle:\n",
    "    wave_data = pickle.load(handle)\n",
    "print(wave_data['history'].shape)\n",
    "print(type(wave_data))\n",
    "print(test_data[:, 0])\n"
   ]
  },
  {
   "cell_type": "code",
   "execution_count": 86,
   "metadata": {},
   "outputs": [],
   "source": [
    "    \n",
    "class LSTM(torch.nn.Module):\n",
    "    def __init__(self, input_dim, output_dim, hidden_dim):\n",
    "        super(LSTM, self).__init__()\n",
    "        self.input_dim = input_dim\n",
    "        self.output_dim = output_dim\n",
    "        self.hidden_dim = hidden_dim\n",
    "        \n",
    "        # HINT: Use Pytorch built-in functions for LSTM and Linear layers.\n",
    "        # HINT: batch dimension is dim=0\n",
    "\n",
    "        '''\n",
    "        looking at the code provided on pytorch\n",
    "\n",
    "        \n",
    "        nn.LSTM is looking for an input and an output without specifying that it is\n",
    "        being used as an encoder or a decoder so it can be reversed?\n",
    "\n",
    "        nn.Linear is a transformation that turn the output into a linearized equation where y = Ax + b\n",
    "            b is the bias\n",
    "            A is the weight\n",
    "            y is the output\n",
    "        '''\n",
    "        \n",
    "        # TODO: Define encoder LSTM.\n",
    "        self.encoder = torch.nn.LSTM(input_dim, hidden_dim, batch_first=True)\n",
    "        ############################\n",
    "        \n",
    "        \n",
    "        # TODO: Define decoder LSTM\n",
    "        self.decoder = torch.nn.LSTM(input_dim, hidden_dim, batch_first=True)\n",
    "        ############################\n",
    "        \n",
    "        \n",
    "        #TODO: Define linear project from hidden_dim to output_dim\n",
    "        # The output is a scalar but it needs to be an array [~,4]\n",
    "        self.projection = torch.nn.Linear(hidden_dim, output_dim, bias = False)\n",
    "        ############################\n",
    "        \n",
    "\n",
    "    def forward(self, x, t_max, y=None, prob=1.):\n",
    "        \"\"\"\n",
    "        Forward pass of the LSTM model.\n",
    "        x: The input sequence [batch_size, seq_len, input_dim]\n",
    "        t_max: maximum time steps to unroll\n",
    "        y: The target sequence for teacher forcing (optional, used if teacher forcing is applied) [batch_size, t_max, output_dim]\n",
    "        prob: Probability to apply teacher forcing (0 to 1). 1 means 100% teacher forcing, \n",
    "        \"\"\"\n",
    "        \n",
    "        # making sure x and y is the appropriate size.\n",
    "        if len(x.shape) == 2:\n",
    "            x = x.unsqueeze(-1)\n",
    "        if y is not None and len(y.shape) == 2:\n",
    "            y = y.unsqueeze(-1)\n",
    "        \n",
    "        \n",
    "        ys = [] # collect outputs\n",
    "        # TODO: Run input through encoder to get initial hidden state for decoder\n",
    "        _, h = self.encoder(x)\n",
    "        ############################\n",
    "        \n",
    "        \n",
    "        # TODO: initial state for decoder is last input state\n",
    "        y_input = x[:,-1, :]\n",
    "        y_input = y_input.unsqueeze(1)\n",
    "        ############################\n",
    "        \n",
    "\n",
    "        # TODO: unroll decoder \n",
    "        # TODO: if eval or no teacher forcing, use prediction from previous step\n",
    "        # TODO: if train and using teacher forcing, use prob to determine whether to use ground truth or previous prediction\n",
    "        \n",
    "        ############################\n",
    "        for i in range(t_max):\n",
    "            output, h = self.decoder(y_input, h)\n",
    "            output = self.projection(output)\n",
    "            # TODO: y_input = ...?\n",
    "            random = torch.rand([1, 1])\n",
    "            if random >= 0.7:\n",
    "                y_input = output\n",
    "            else:\n",
    "                y_input = y_input\n",
    "            # y_input = output\n",
    "            ys.append(output.squeeze(1))\n",
    "        ys = torch.cat(ys, dim=1)\n",
    "    \n",
    "        \n",
    "        return ys # [batch_size, ts_max, output_dim]"
   ]
  },
  {
   "cell_type": "code",
   "execution_count": 87,
   "metadata": {},
   "outputs": [],
   "source": [
    "hidden_size = 1\n",
    "future_length = 15\n",
    "input_size = 1\n",
    "output_size = 1\n",
    "\n",
    "model = LSTM(input_size, output_size, hidden_size)\n",
    "\n",
    "learning_rate = 0.001\n",
    "num_epochs = 10\n",
    "batch_size = 32\n",
    "train_dataloader = DataLoader(train_data, batch_size=batch_size, shuffle=True)\n",
    "prob = 0.\n",
    "\n",
    "optimizer = torch.optim.Adam(model.parameters(), lr=learning_rate)\n",
    "criterion = torch.nn.MSELoss()\n",
    "\n",
    "\n",
    "def prob_schedule(i):\n",
    "    return 1 - jax.nn.sigmoid(20 * (i - 0.5)).item()\n",
    "\n"
   ]
  },
  {
   "cell_type": "code",
   "execution_count": 88,
   "metadata": {},
   "outputs": [
    {
     "name": "stdout",
     "output_type": "stream",
     "text": [
      "Epoch [1/10], Step [0/1], Loss: 2.9991\n",
      "Epoch 1 completed with average loss: 2.9991\n",
      "Epoch [2/10], Step [0/1], Loss: 2.9966\n",
      "Epoch 2 completed with average loss: 2.9966\n",
      "Epoch [3/10], Step [0/1], Loss: 2.9995\n",
      "Epoch 3 completed with average loss: 2.9995\n",
      "Epoch [4/10], Step [0/1], Loss: 2.9950\n",
      "Epoch 4 completed with average loss: 2.9950\n",
      "Epoch [5/10], Step [0/1], Loss: 2.9935\n",
      "Epoch 5 completed with average loss: 2.9935\n",
      "Epoch [6/10], Step [0/1], Loss: 2.9907\n",
      "Epoch 6 completed with average loss: 2.9907\n",
      "Epoch [7/10], Step [0/1], Loss: 2.9898\n",
      "Epoch 7 completed with average loss: 2.9898\n",
      "Epoch [8/10], Step [0/1], Loss: 2.9903\n",
      "Epoch 8 completed with average loss: 2.9903\n",
      "Epoch [9/10], Step [0/1], Loss: 2.9902\n",
      "Epoch 9 completed with average loss: 2.9902\n",
      "Epoch [10/10], Step [0/1], Loss: 2.9836\n",
      "Epoch 10 completed with average loss: 2.9836\n",
      "Training finished!\n"
     ]
    }
   ],
   "source": [
    "# we use a slightly different training loop to account for teacher forcing\n",
    "for epoch in range(num_epochs):\n",
    "    model.train()  # Set model to training mode\n",
    "    running_loss = 0.0\n",
    "    prob = prob_schedule((epoch + 1)/num_epochs)\n",
    "    for batch_idx, (data, target) in enumerate(train_dataloader):\n",
    "        optimizer.zero_grad()        # Zero the gradients\n",
    "        output = model(data, future_length, target, prob)         # Forward pass\n",
    "        loss = criterion(output, target)  # Compute loss\n",
    "        loss.backward()              # Backpropagation\n",
    "        optimizer.step()             # Update weights\n",
    "\n",
    "        running_loss += loss.item()\n",
    "        if batch_idx % 100 == 0:\n",
    "            print(f'Epoch [{epoch+1}/{num_epochs}], Step [{batch_idx}/{len(train_dataloader)}], Loss: {loss.item():.4f}')\n",
    "\n",
    "    print(f'Epoch {epoch+1} completed with average loss: {running_loss/len(train_dataloader):.4f}')\n",
    "\n",
    "print(\"Training finished!\")\n"
   ]
  },
  {
   "cell_type": "code",
   "execution_count": 77,
   "metadata": {},
   "outputs": [
    {
     "name": "stdout",
     "output_type": "stream",
     "text": [
      "Test Loss: 3.3566\n"
     ]
    },
    {
     "data": {
      "application/vnd.jupyter.widget-view+json": {
       "model_id": "873ee788ad724ed5a30196099103eeb3",
       "version_major": 2,
       "version_minor": 0
      },
      "text/plain": [
       "interactive(children=(IntSlider(value=0, description='Index:', max=1), Output()), _dom_classes=('widget-intera…"
      ]
     },
     "metadata": {},
     "output_type": "display_data"
    },
    {
     "data": {
      "text/plain": [
       "<function aa598.hw1_helper.plot_data_regression(history, future, prediction, index, xlims=[-11, 5], ylims=[-2, 2])>"
      ]
     },
     "execution_count": 77,
     "metadata": {},
     "output_type": "execute_result"
    }
   ],
   "source": [
    "# evaluate on a test set. \n",
    "model.eval()\n",
    "test_dataloader = DataLoader(test_data, batch_size=len(test_data), shuffle=False)\n",
    "for (history, future) in test_dataloader:\n",
    "    prediction = model(history, future_length)         # Forward pass\n",
    "    loss = criterion(prediction, future)  # Compute loss\n",
    "    \n",
    "# print out test loss\n",
    "print(f'Test Loss: {loss.item():.4f}')\n",
    "\n",
    "\n",
    "# try with different prediction horizons\n",
    "prediction_horizon = 15\n",
    "prediction = model(history, prediction_horizon)\n",
    "\n",
    "\n",
    "# Visualize prediction on test data\n",
    "test_dataloader = list(DataLoader(test_data, batch_size=1, shuffle=False))\n",
    "index_slider = widgets.IntSlider(value=0, min=0, max=len(test_dataloader)-1, step=1, description='Index:')\n",
    "xlims = [-16, prediction_horizon + 2]\n",
    "ylims = [-5,5]\n",
    "interact(hw1_helper.plot_data_regression, history=widgets.fixed(history), future=widgets.fixed(future), prediction=widgets.fixed(prediction), index=index_slider, xlims=widgets.fixed(xlims), ylims=widgets.fixed(ylims))\n",
    "\n"
   ]
  },
  {
   "cell_type": "code",
   "execution_count": 82,
   "metadata": {
    "scrolled": true
   },
   "outputs": [
    {
     "name": "stdout",
     "output_type": "stream",
     "text": [
      "tensor([[0.0490, 0.0432, 0.0396, 0.0345, 0.0335, 0.0329, 0.0327, 0.0324, 0.0324,\n",
      "         0.0323, 0.0323, 0.0323, 0.0323, 0.0323, 0.0323],\n",
      "        [0.0457, 0.0398, 0.0363, 0.0340, 0.0332, 0.0327, 0.0326, 0.0324, 0.0324,\n",
      "         0.0323, 0.0323, 0.0323, 0.0323, 0.0323, 0.0323]],\n",
      "       grad_fn=<SliceBackward0>)\n",
      "history tensor([[-0.0039,  0.0504, -0.0044, -0.1418, -0.0355,  0.0686,  0.1401,  0.1881,\n",
      "          0.2192,  0.2382,  0.2486,  0.2529,  0.2531,  0.2503,  0.2455,  0.2395],\n",
      "        [ 0.0352,  0.0425,  0.0417,  0.0347,  0.0404,  0.0465,  0.0511,  0.0550,\n",
      "          0.0583,  0.0613,  0.0639,  0.0662,  0.0681,  0.0697,  0.0708,  0.0715]])\n",
      "future tensor([[-3.0000e+00, -2.9045e+00, -2.8186e+00, -2.7426e+00, -2.6751e+00,\n",
      "         -2.6141e+00, -2.5584e+00, -2.5067e+00, -2.4578e+00, -2.4109e+00,\n",
      "         -2.3674e+00, -2.3286e+00, -2.2929e+00, -2.2590e+00, -2.2258e+00],\n",
      "        [-0.0000e+00, -1.4105e-03, -5.0938e-03, -1.0268e-02, -1.6046e-02,\n",
      "         -2.1766e-02, -2.7230e-02, -3.2397e-02, -3.7276e-02, -4.1909e-02,\n",
      "         -4.6216e-02, -5.0121e-02, -5.3726e-02, -5.7145e-02, -6.0469e-02]])\n"
     ]
    }
   ],
   "source": [
    "print(prediction[:, :])\n",
    "print('history', history)\n",
    "print('future', future)"
   ]
  },
  {
   "cell_type": "code",
   "execution_count": 74,
   "metadata": {},
   "outputs": [
    {
     "name": "stdout",
     "output_type": "stream",
     "text": [
      "tensor([0.0324, 0.0323], grad_fn=<SelectBackward0>)\n"
     ]
    },
    {
     "data": {
      "text/plain": [
       "[<matplotlib.lines.Line2D at 0x16e222960>]"
      ]
     },
     "execution_count": 74,
     "metadata": {},
     "output_type": "execute_result"
    },
    {
     "data": {
      "image/png": "[encoded data removed]",
      "text/plain": [
       "<Figure size 640x480 with 1 Axes>"
      ]
     },
     "metadata": {},
     "output_type": "display_data"
    }
   ],
   "source": [
    "# t = np.linspace(0,16, 16)\n",
    "# plt.plot(t, prediction[:, 0].detach().numpy())\n",
    "print((prediction[:, 12]))\n",
    "plt.plot(prediction[:, 0].detach().numpy(), prediction[:, 1].detach().numpy())"
   ]
  },
  {
   "cell_type": "code",
   "execution_count": 116,
   "metadata": {},
   "outputs": [
    {
     "data": {
      "text/plain": [
       "Text(0, 0.5, 'y axis')"
      ]
     },
     "execution_count": 116,
     "metadata": {},
     "output_type": "execute_result"
    },
    {
     "data": {
      "image/png": "[encoded data removed]",
      "text/plain": [
       "<Figure size 640x480 with 1 Axes>"
      ]
     },
     "metadata": {},
     "output_type": "display_data"
    }
   ],
   "source": [
    "t = jnp.arange(0, len(trainXPosition), 1)\n",
    "j = jnp.arange(0, len(testXPosition), 1)\n",
    "plt.scatter(t, trainXPosition, color='b')\n",
    "plt.scatter(j+len(trainXPosition), testXPosition , color = 'k')\n",
    "# plt.scatter(j+len(trainXPosition), prediction)\n",
    "plt.xlabel('x axis')\n",
    "plt.ylabel('y axis')"
   ]
  },
  {
   "cell_type": "code",
   "execution_count": 52,
   "metadata": {},
   "outputs": [
    {
     "data": {
      "image/png": "[encoded data removed]",
      "text/plain": [
       "<Figure size 1800x800 with 2 Axes>"
      ]
     },
     "metadata": {},
     "output_type": "display_data"
    },
    {
     "data": {
      "application/vnd.jupyter.widget-view+json": {
       "model_id": "32339d3be3db4269ab5211ee4d3e1459",
       "version_major": 2,
       "version_minor": 0
      },
      "text/plain": [
       "interactive(children=(IntSlider(value=14, description='i', max=29), Output()), _dom_classes=('widget-interact'…"
      ]
     },
     "metadata": {},
     "output_type": "display_data"
    }
   ],
   "source": [
    "# plotting\n",
    "@interact(i=(0,num_time_steps-1))\n",
    "def plot(i):\n",
    "    fig, axs = plt.subplots(1,2, figsize=(18,8))\n",
    "    ax = axs[0]\n",
    "    robot_position = train_data[i]\n",
    "    circle1 = plt.Circle(robot_position, radius / 2, color='C0', alpha=0.4)\n",
    "    ax.add_patch(circle1)\n",
    "    ax.add_patch(circle2)\n",
    "    # ax.plot(human_samples[i,:,:,0].T, human_samples[i,:,:,1].T, \"o-\", alpha=0.1, markersize=2, color='C1')\n",
    "    ax.plot(train_data[0], train_data[1], \"o-\", markersize=3, color='C0')\n",
    "    ax.plot(train_data[i][0], train_data[i][1], \"o-\", markersize=3, color='C2', label=\"planned\")\n",
    "    ax.scatter(train_data[i:i+1], train_data[i:i+1], s=30,  color='C0', label=\"Robot\")\n",
    "    ax.grid()\n",
    "    ax.legend()\n",
    "\n",
    "    ax.set_xlim([-4,4])\n",
    "    ax.set_ylim([-3, 2])\n",
    "    ax.axis(\"equal\")\n",
    "\n",
    "    ax.set_title(\"heading=%.2f velocity=%.2f\"%(robot_trajectory[i,2], robot_trajectory[i,3]))"
   ]
  },
  {
   "cell_type": "code",
   "execution_count": null,
   "metadata": {},
   "outputs": [],
   "source": []
  }
 ],
 "metadata": {
  "kernelspec": {
   "display_name": "Python 3 (ipykernel)",
   "language": "python",
   "name": "python3"
  },
  "language_info": {
   "codemirror_mode": {
    "name": "ipython",
    "version": 3
   },
   "file_extension": ".py",
   "mimetype": "text/x-python",
   "name": "python",
   "nbconvert_exporter": "python",
   "pygments_lexer": "ipython3",
   "version": "3.12.6"
  }
 },
 "nbformat": 4,
 "nbformat_minor": 4
}
