{
 "cells": [
  {
   "cell_type": "code",
   "execution_count": 275,
   "metadata": {},
   "outputs": [],
   "source": [
    "# Homework 2 libs\n",
    "import jax.numpy as jnp\n",
    "import jax\n",
    "import numpy as np\n",
    "import matplotlib.pyplot as plt\n",
    "import pickle # for the project\n",
    "\n",
    "from aa598.hw2_helper import simulate_dynamics\n",
    "import cvxpy as cp\n",
    "from cbfax.dynamics import *\n",
    "\n",
    "# Homework 1 libs\n",
    "import torch\n",
    "from torch.utils.data import Dataset\n",
    "from torch.utils.data import DataLoader\n",
    "import torch.nn.functional as F\n",
    "\n",
    "from ipywidgets import interact, interactive, fixed, interact_manual\n",
    "import ipywidgets as widgets\n",
    "\n",
    "import aa598.hw1_helper as hw1_helper\n",
    "\n",
    "\n",
    "from matplotlib import rc\n",
    "rc('font',**{'family':'serif','serif':['Palatino']})\n",
    "rc('text', usetex=False) # set to False if latex is not set up on your computer\n"
   ]
  },
  {
   "cell_type": "code",
   "execution_count": 6,
   "metadata": {},
   "outputs": [],
   "source": [
    "robot = DynamicallyExtendedSimpleCar() # robot dynamics\n",
    "human = DynamicallyExtendedSimpleCar() # human dynamics\n",
    "\n",
    "@jax.jit\n",
    "def obstacle_constraint(state, obstacle, radius):\n",
    "    return jnp.linalg.norm(state[:2] - obstacle[:2]) - radius\n"
   ]
  },
  {
   "cell_type": "code",
   "execution_count": 7,
   "metadata": {},
   "outputs": [],
   "source": [
    "planning_horizon = 25\n",
    "num_time_steps = 30\n",
    "num_sqp_iterations = 15\n",
    "dt = 0.1\n",
    "t = 0. # this doesn't affect anything, but a value is needed \n",
    "radius = 1. # minimum collision distance\n",
    "\n",
    "v_max = 1.5\n",
    "v_min = 0.\n",
    "acceleration_max = 1.0\n",
    "acceleration_min = -1.0\n",
    "steering_max = 0.3\n",
    "steering_min = -0.3\n",
    "\n",
    "human_control_prediction_noise_limit = 0.25\n",
    "human_control_prediction_variance = 0.25\n"
   ]
  },
  {
   "cell_type": "code",
   "execution_count": 8,
   "metadata": {},
   "outputs": [],
   "source": [
    "xs = cp.Variable([planning_horizon+1, robot.state_dim])  # cvx variable for states\n",
    "us = cp.Variable([planning_horizon, robot.control_dim])  # cvx variable for controls\n",
    "slack = cp.Variable(1) # slack variable to make sure the problem is feasible\n",
    "As = [cp.Parameter([robot.state_dim, robot.state_dim]) for _ in range(planning_horizon)]  # parameters for linearized dynamics\n",
    "Bs = [cp.Parameter([robot.state_dim, robot.control_dim]) for _ in range(planning_horizon)] # parameters for linearized dynamics\n",
    "Cs = [cp.Parameter([robot.state_dim]) for _ in range(planning_horizon)] # parameters for linearized dynamics\n",
    "\n",
    "Gs = [cp.Parameter([robot.state_dim]) for _ in range(planning_horizon+1)] # parameters for linearized constraints\n",
    "hs = [cp.Parameter(1) for _ in range(planning_horizon+1)] # parameters for linearized constraints\n",
    "\n",
    "xs_previous = cp.Parameter([planning_horizon+1, robot.state_dim]) # parameter for previous solution\n",
    "us_previous = cp.Parameter([planning_horizon, robot.control_dim]) # parameter for previous solution\n",
    "initial_state = cp.Parameter([robot.state_dim]) # parameter for current robot state\n",
    "\n"
   ]
  },
  {
   "cell_type": "code",
   "execution_count": 9,
   "metadata": {},
   "outputs": [],
   "source": [
    "beta1 = 0.2 # coefficient for control effort\n",
    "beta2 = 2. # coefficient for progress\n",
    "beta3 = 10. # coefficient for trust region\n",
    "slack_penalty = 1000. # coefficient for slack variable\n",
    "markup = 1.0\n",
    "\n",
    "objective = beta2 * (xs[-1,2]**2 + xs[-1,1]**2 - xs[-1,0]) + beta3 * (cp.sum_squares(xs - xs_previous) + cp.sum_squares(us - us_previous)) + slack_penalty * slack**2\n",
    "constraints = [xs[0] == initial_state, slack >= 0] # initial state and slack constraint\n",
    "for t in range(planning_horizon):\n",
    "    objective += beta1 * cp.sum_squares(us[t]) * markup**t\n",
    "    constraints += [xs[t+1] == As[t] @ xs[t] + Bs[t] @ us[t] + Cs[t]] # dynamics constraint\n",
    "    constraints += [xs[t,-1] <= v_max, xs[t,-1] >= v_min, us[t,0] <= acceleration_max, us[t,0] >= acceleration_min, us[t,1] <= steering_max, us[t,1] >= steering_min] # control limit constraints\n",
    "    constraints += [Gs[t] @ xs[t] + hs[t] >= -slack] # linearized collision avoidance constraint\n",
    "constraints += [xs[planning_horizon,-1] <= v_max, xs[planning_horizon,-1] >= v_min, Gs[planning_horizon] @ xs[planning_horizon] + hs[planning_horizon] >= 0] # constraints for last planning horizon step\n",
    "prob = cp.Problem(cp.Minimize(objective), constraints) # construct problem\n",
    "    \n"
   ]
  },
  {
   "cell_type": "code",
   "execution_count": 10,
   "metadata": {},
   "outputs": [],
   "source": [
    "# initial states\n",
    "robot_state = jnp.array([-3.0, -0., 0., 1.])  # robot starting state\n",
    "human_state = jnp.array([-1., -2., jnp.pi/2, 1.]) # human starting state\n",
    "\n",
    "robot_trajectory = [robot_state] # list to collect robot's state as it replans\n",
    "human_trajectory = [human_state] # list to collect humans's state\n",
    "robot_control_list = []  # list to collect robot's constrols as it replans\n",
    "robot_trajectory_list = [] # list to collect robot's planned trajectories\n",
    "human_control_list = []\n",
    "\n",
    "# initial robot planned state and controls\n",
    "previous_controls = jnp.zeros([planning_horizon, robot.control_dim]) # initial guess for robot controls\n",
    "previous_states =  simulate_dynamics(robot, robot_state, previous_controls, dt) # initial guess for robot states\n",
    "xs_previous.value = np.array(previous_states) # set xs_previous parameter value\n",
    "us_previous.value = np.array(previous_controls) # set us_previous parameter value \n",
    "\n",
    "# jit the linearize dynamics and constraint functions to make it run faster\n",
    "linearize_dynamics = jax.jit(lambda states, controls, ti: jax.vmap(linearize, [None, 0, 0, None])(lambda s, c, t: robot.discrete_step(s, c, t, dt), states, controls, ti))\n",
    "linearize_obstacle = jax.jit(lambda states, controls, radius: jax.vmap(jax.grad(obstacle_constraint), [0, 0, None])(states, controls, radius))"
   ]
  },
  {
   "cell_type": "code",
   "execution_count": 11,
   "metadata": {},
   "outputs": [
    {
     "name": "stdout",
     "output_type": "stream",
     "text": [
      "timestep: 0\n",
      "timestep: 1\n",
      "timestep: 2\n",
      "timestep: 3\n",
      "timestep: 4\n",
      "timestep: 5\n",
      "timestep: 6\n",
      "timestep: 7\n",
      "timestep: 8\n",
      "timestep: 9\n",
      "timestep: 10\n",
      "timestep: 11\n",
      "timestep: 12\n",
      "timestep: 13\n",
      "timestep: 14\n",
      "timestep: 15\n",
      "timestep: 16\n",
      "timestep: 17\n",
      "timestep: 18\n",
      "timestep: 19\n",
      "timestep: 20\n",
      "timestep: 21\n",
      "timestep: 22\n",
      "timestep: 23\n",
      "timestep: 24\n",
      "timestep: 25\n",
      "timestep: 26\n",
      "timestep: 27\n",
      "timestep: 28\n",
      "timestep: 29\n"
     ]
    }
   ],
   "source": [
    "solver = cp.CLARABEL\n",
    "\n",
    "for t in range(num_time_steps):\n",
    "    print(\"timestep: %i\"% t)\n",
    "    initial_state.value = np.array(robot_state)\n",
    "    # simulate human future trajectory, assuming some noisy behavior\n",
    "    noisy_human_control = jnp.clip(jnp.array(np.random.randn(planning_horizon, human.control_dim) * human_control_prediction_variance), -human_control_prediction_noise_limit, human_control_prediction_noise_limit)\n",
    "    human_future = simulate_dynamics(human, human_state, noisy_human_control, dt)\n",
    "    \n",
    "    for i in range(num_sqp_iterations):\n",
    "        # As_value, Bs_value, Cs_value = jax.vmap(linearize, [None, 0, 0, None])(lambda s, c, t: robot.discrete_step(s, c, t, dt), previous_states[:-1], previous_controls, t)\n",
    "        As_value, Bs_value, Cs_value = linearize_dynamics( previous_states[:-1], previous_controls, t)\n",
    "        # Gs_value = jax.vmap(jax.grad(obstacle_constraint), [0, 0, None])(previous_states, human_future, radius)\n",
    "        Gs_value = linearize_obstacle(previous_states, human_future, radius)\n",
    "        hs_value = jax.vmap(obstacle_constraint, [0, 0, None])(previous_states, human_future, radius) - jax.vmap(jnp.dot, [0, 0])(Gs_value, previous_states)\n",
    "\n",
    "        for i in range(planning_horizon):\n",
    "            As[i].value = np.array(As_value[i])\n",
    "            Bs[i].value = np.array(Bs_value[i])\n",
    "            Cs[i].value = np.array(Cs_value[i])\n",
    "            Gs[i].value = np.array(Gs_value[i])\n",
    "            hs[i].value = np.array(hs_value[i:i+1])\n",
    "        Gs[planning_horizon].value = np.array(Gs_value[planning_horizon])\n",
    "        hs[planning_horizon].value = np.array(hs_value[planning_horizon:planning_horizon+1])\n",
    "        \n",
    "        result = prob.solve(solver=solver)\n",
    "\n",
    "        # previous_states = xs.value\n",
    "        previous_controls = us.value\n",
    "        previous_states =  simulate_dynamics(robot, robot_state, previous_controls, dt)\n",
    "        xs_previous.value = np.array(previous_states)\n",
    "        us_previous.value = np.array(previous_controls)\n",
    "       \n",
    "    robot_control = previous_controls[0]\n",
    "    robot_control_list.append(robot_control)\n",
    "    # robot takes a step\n",
    "    robot_state = robot.discrete_step(robot_state, robot_control, 0., dt)\n",
    "    robot_trajectory.append(robot_state)\n",
    "    robot_trajectory_list.append(previous_states)\n",
    "\n",
    "    \n",
    "    human_random_control = jnp.clip(jnp.array(np.random.randn( human.control_dim) * human_control_prediction_variance), -human_control_prediction_noise_limit, human_control_prediction_noise_limit)\n",
    "    human_control_list.append(human_random_control)\n",
    "    # human states a step\n",
    "    human_state = human.discrete_step(human_state, human_random_control, 0., dt)\n",
    "    human_trajectory.append(human_state)\n",
    "\n",
    "human_traj = [human_trajectory]\n",
    "human_random_cont = (human_random_control)\n",
    "robot_trajectory = jnp.stack(robot_trajectory)\n",
    "human_trajectory = jnp.stack(human_trajectory)\n",
    "robot_controls = jnp.stack(robot_control_list)\n",
    "human_controls = jnp.stack(human_control_list)\n",
    "\n",
    "\n",
    "\n",
    "\n",
    "# #Project code\n",
    "# history_trajectory = jnp.array([robot_trajectory], [robot_control_list],[human_trajectory], [human_random_control])\n",
    "# with open('history.pickle', 'wb') as f:\n",
    "#     # Pickle the 'data' dictionary using the highest protocol available.\n",
    "#     pickle.dump(history_trajectory, f, pickle.HIGHEST_PROTOCOL)\n",
    "# with open('future.pickle', 'wb') as f:\n",
    "#     # Pickle the 'data' dictionary using the highest protocol available.\n",
    "#     pickle.dump(singleTrainData, f, pickle.HIGHEST_PROTOCOL)\n",
    "\n",
    "\n",
    "# # Training data\n",
    "# trajectoryTrainingData = {'xPosition' : robot_trajectory[:-5, 0], 'yPosition' : robot_trajectory[:-5, 1],\n",
    "#         'heading' : robot_trajectory[:-5, 2], 'velocity' : robot_trajectory[:-5, 3]}\n",
    "# with open('robot_trajectory_train_v3.pickle', 'wb') as f:\n",
    "#     # Pickle the 'data' dictionary using the highest protocol available.\n",
    "#     pickle.dump(trajectoryTrainingData, f, pickle.HIGHEST_PROTOCOL)\n",
    "# # Testing data\n",
    "# trajectoryTestingData = {'xPosition' : robot_trajectory[-5:, 0], 'yPosition' : robot_trajectory[-5:, 1],\n",
    "#         'heading' : robot_trajectory[-5:, 2], 'velocity' : robot_trajectory[-5:, 3]}\n",
    "# with open('robot_trajectory_test_v3.pickle', 'wb') as f:\n",
    "#     # Pickle the 'data' dictionary using the highest protocol available.\n",
    "#     pickle.dump(trajectoryTestingData, f, pickle.HIGHEST_PROTOCOL)\n",
    "    "
   ]
  },
  {
   "cell_type": "code",
   "execution_count": 12,
   "metadata": {},
   "outputs": [
    {
     "data": {
      "application/vnd.jupyter.widget-view+json": {
       "model_id": "1a3df643517041eaa64dfe864b47859c",
       "version_major": 2,
       "version_minor": 0
      },
      "text/plain": [
       "interactive(children=(IntSlider(value=14, description='i', max=29), Output()), _dom_classes=('widget-interact'…"
      ]
     },
     "metadata": {},
     "output_type": "display_data"
    }
   ],
   "source": [
    "# plotting\n",
    "@interact(i=(0,num_time_steps-1))\n",
    "def plot(i):\n",
    "    fig, axs = plt.subplots(1,2, figsize=(18,8))\n",
    "    ax = axs[0]\n",
    "    robot_position = robot_trajectory[i, :2]\n",
    "    human_position = human_trajectory[i, :2]\n",
    "    circle1 = plt.Circle(robot_position, radius / 2, color='C0', alpha=0.4)\n",
    "    circle2 = plt.Circle(human_position, radius / 2, color='C1', alpha=0.4)\n",
    "    ax.add_patch(circle1)\n",
    "    ax.add_patch(circle2)\n",
    "    # ax.plot(human_samples[i,:,:,0].T, human_samples[i,:,:,1].T, \"o-\", alpha=0.1, markersize=2, color='C1')\n",
    "    ax.plot(robot_trajectory[:,0], robot_trajectory[:,1], \"o-\", markersize=3, color='C0')\n",
    "    ax.plot(robot_trajectory_list[i][:,0], robot_trajectory_list[i][:,1], \"o-\", markersize=3, color='C2', label=\"planned\")\n",
    "    print(robot_trajectory[i])\n",
    "\n",
    "    ax.plot(human_trajectory[:,0], human_trajectory[:,1], \"o-\", markersize=3, color='C1')\n",
    "    ax.scatter(robot_trajectory[i:i+1,0], robot_trajectory[i:i+1,1], s=30,  color='C0', label=\"Robot\")\n",
    "    ax.scatter(human_trajectory[i:i+1,0], human_trajectory[i:i+1,1], s=30,  color='C1', label=\"Human\")\n",
    "    ax.grid()\n",
    "    ax.legend()\n",
    "\n",
    "    ax.set_xlim([-4,4])\n",
    "    ax.set_ylim([-3, 2])\n",
    "    ax.axis(\"equal\")\n",
    "\n",
    "    ax.set_title(\"heading=%.2f velocity=%.2f\"%(robot_trajectory[i,2], robot_trajectory[i,3]))\n",
    "    \n",
    "    ax = axs[1]\n",
    "    plt.plot(robot_controls)\n",
    "    plt.scatter([i], robot_controls[i:i+1, 0], label=\"Acceleration\")\n",
    "    plt.scatter([i], robot_controls[i:i+1, 1], label=\"Steering\")\n",
    "    ax.plot(robot_trajectory[:,-1], \"o-\", markersize=3, color='C0', label=\"Velocity\")\n",
    "\n",
    "    ax.legend()\n",
    "    ax.grid()\n",
    "    "
   ]
  },
  {
   "cell_type": "code",
   "execution_count": 260,
   "metadata": {},
   "outputs": [
    {
     "name": "stdout",
     "output_type": "stream",
     "text": [
      "[[-0.77215546 -0.8842893  -0.9601989  -0.9967745  -0.99251807]\n",
      " [-0.33736357 -0.6201609  -0.83809453 -0.96837014 -0.99736214]\n",
      " [-0.9241497  -0.9772044  -0.9993569  -0.98990667 -0.9491525 ]\n",
      " ...\n",
      " [ 0.8635387   0.84961313  0.8350685   0.8199155   0.80416495]\n",
      " [-0.78483945 -0.86998636 -0.934877   -0.9780004  -0.9983526 ]\n",
      " [ 0.9903264   0.98666096  0.8932651   0.7186327   0.47864532]]\n"
     ]
    }
   ],
   "source": [
    "with open(\"data/hw1/wave_data_train.pickle\", 'rb') as handle:\n",
    "    wave_data = pickle.load(handle)\n",
    "history = wave_data[\"history\"]\n",
    "future = wave_data[\"future\"]\n",
    "print((future))"
   ]
  },
  {
   "cell_type": "code",
   "execution_count": 68,
   "metadata": {
    "scrolled": true
   },
   "outputs": [
    {
     "name": "stdout",
     "output_type": "stream",
     "text": [
      "<class 'numpy.ndarray'>\n"
     ]
    }
   ],
   "source": [
    "zero_row = jnp.zeros((1, 2))\n",
    "if (robot_controls[0] != 0).all():\n",
    "    robot_controls = jnp.vstack([zero_row, robot_controls])\n",
    "if (human_controls[0] != 0).all():\n",
    "    human_controls = jnp.vstack([zero_row, human_controls])\n",
    "\n",
    "totalMatrix = jnp.concatenate([robot_trajectory, robot_controls, human_trajectory, human_controls], axis = 1) \n",
    "# standardMatrix = jax.nn.standardize(totalMatrix)\n",
    "totalMatrix = np.array(totalMatrix)\n",
    "print(type(totalMatrix))"
   ]
  },
  {
   "cell_type": "code",
   "execution_count": 79,
   "metadata": {},
   "outputs": [
    {
     "name": "stdout",
     "output_type": "stream",
     "text": [
      "[-1.7492138  -0.11980201 -0.08769828  0.5093328   0.2281988   0.08682334\n",
      " -1.2051659   1.0659729   1.6804698   1.0362684   0.10428917  0.06846888]\n"
     ]
    }
   ],
   "source": [
    "print(totalMatrix[-1, :])"
   ]
  },
  {
   "cell_type": "code",
   "execution_count": 70,
   "metadata": {},
   "outputs": [
    {
     "name": "stdout",
     "output_type": "stream",
     "text": [
      "[[0.66461888 0.22864965 0.73637895 0.76078417]\n",
      " [0.53598473 0.97991528 0.14889684 0.944559  ]\n",
      " [0.46502261 0.13147021 0.64624878 0.70144144]\n",
      " [0.70992977 0.34738369 0.9379141  0.53920121]]\n"
     ]
    }
   ],
   "source": [
    "A = np.random.rand(4, 4)\n",
    "print(A)"
   ]
  },
  {
   "cell_type": "code",
   "execution_count": 265,
   "metadata": {},
   "outputs": [
    {
     "name": "stdout",
     "output_type": "stream",
     "text": [
      "10\n",
      "[[ 0.         -1.         -0.9672812  -0.9216062  -0.7085611  -0.73266715\n",
      "  -0.5510376  -0.40168682 -0.3386919  -0.40357587 -0.46862218 -0.3027431\n",
      "  -0.3581929  -0.38827908 -0.2142461 ]\n",
      " [ 0.         -0.3        -0.29999998 -0.29819578 -0.17243247 -0.25088796\n",
      "  -0.1496075  -0.07902728 -0.04207991 -0.03483106 -0.04037986 -0.00954861\n",
      "  -0.00252429  0.00285924  0.01644439]]\n",
      "10\n",
      "[[-0.08479883  0.01112014  0.08181445  0.13351025  0.1708963   0.19749525\n",
      "   0.21596232  0.22829543  0.23599875  0.24021141  0.2417915   0.24138965\n",
      "   0.2394965   0.2364883   0.2326498   0.2281988 ]\n",
      " [ 0.02585071  0.03278644  0.03835532  0.04324008  0.0478334   0.05233175\n",
      "   0.05680311  0.06123573  0.06557198  0.06973232  0.07363143  0.0771886\n",
      "   0.08033409  0.08301231  0.08518346  0.08682334]]\n"
     ]
    }
   ],
   "source": [
    "new_data = np.delete(A, [1, 2], axis=1)\n",
    "# \n",
    "# print(np.size(totalMatrix))\n",
    "# print(totalMatrix[:, 4:6])\n",
    "onlyHistoryData = np.delete(totalMatrix, [4, 6], axis = 1) # deleting the 4, 5 row because this is 'x'\n",
    "onlyTestData = (totalMatrix[:, 4:6])\n",
    "train_data_history = np.transpose(onlyHistoryData[:15, :])\n",
    "train_data_future = np.transpose(onlyTestData[:15, :])\n",
    "test_data_history = np.transpose(onlyHistoryData[:15, :])\n",
    "test_data_future = np.transpose(onlyTestData[15:, :])\n",
    "train_data = {'history' : train_data_history, 'future' : train_data_future}\n",
    "test_data = {'history' : test_data_history, 'future' : test_data_future}\n",
    "print(len(train_data['history']))\n",
    "print(train_data['future'])\n",
    "print(len(train_data['history']))\n",
    "print((test_data['future']))"
   ]
  },
  {
   "cell_type": "code",
   "execution_count": 266,
   "metadata": {},
   "outputs": [],
   "source": [
    "# This will be the training data\n",
    "with open('train.pickle', 'wb') as f:\n",
    "    # Pickle the 'data' dictionary using the highest protocol available.\n",
    "    pickle.dump(train_data, f, pickle.HIGHEST_PROTOCOL)\n",
    "# This will be the testing data\n",
    "with open('test.pickle', 'wb') as f:\n",
    "    # Pickle the 'data' dictionary using the highest protocol available.\n",
    "    pickle.dump(test_data, f, pickle.HIGHEST_PROTOCOL)\n",
    "# When training will have to leave out the testing robot controls"
   ]
  },
  {
   "cell_type": "code",
   "execution_count": 268,
   "metadata": {},
   "outputs": [],
   "source": [
    "with open(\"train.pickle\", 'rb') as handle:\n",
    "    train = pickle.load(handle)\n",
    "with open(\"test.pickle\", 'rb') as handle:\n",
    "    test = pickle.load(handle)\n",
    "# print((test.shape))\n",
    "# print((train.shape))"
   ]
  },
  {
   "cell_type": "code",
   "execution_count": 269,
   "metadata": {},
   "outputs": [
    {
     "data": {
      "image/png": "[encoded data removed]",
      "text/plain": [
       "<Figure size 640x480 with 1 Axes>"
      ]
     },
     "metadata": {},
     "output_type": "display_data"
    }
   ],
   "source": [
    "t = np.arange(0,31)\n",
    "# print((totalMatrix))\n",
    "# plt.plot(t, standardMatrix[0:31, 0], color  = 'r') # Robot controls\n",
    "# plt.plot(t, standardMatrix[0:31, 6], color  = 'b') # Human controls\n",
    "plt.plot(t, totalMatrix[0:31, 0], color  = 'y') # Robot controls\n",
    "plt.plot(t, totalMatrix[0:31, 6], color  = 'g') # Human controls\n",
    "plt.grid()"
   ]
  },
  {
   "cell_type": "markdown",
   "metadata": {},
   "source": [
    "## LSTM"
   ]
  },
  {
   "cell_type": "code",
   "execution_count": 276,
   "metadata": {},
   "outputs": [
    {
     "ename": "KeyError",
     "evalue": "(slice(None, None, None), slice(4, 6, None))",
     "output_type": "error",
     "traceback": [
      "\u001b[0;31m---------------------------------------------------------------------------\u001b[0m",
      "\u001b[0;31mKeyError\u001b[0m                                  Traceback (most recent call last)",
      "Cell \u001b[0;32mIn[276], line 3\u001b[0m\n\u001b[1;32m      1\u001b[0m \u001b[38;5;66;03m# feel free to poke around the data\u001b[39;00m\n\u001b[1;32m      2\u001b[0m \u001b[38;5;66;03m# THIS NEEDS TO BE REVIEWED\u001b[39;00m\n\u001b[0;32m----> 3\u001b[0m test_data \u001b[38;5;241m=\u001b[39m \u001b[43mhw1_helper\u001b[49m\u001b[38;5;241;43m.\u001b[39;49m\u001b[43mTrajectoryData\u001b[49m\u001b[43m(\u001b[49m\u001b[38;5;124;43m\"\u001b[39;49m\u001b[38;5;124;43mtest\u001b[39;49m\u001b[38;5;124;43m\"\u001b[39;49m\u001b[43m)\u001b[49m\n\u001b[1;32m      4\u001b[0m train_data \u001b[38;5;241m=\u001b[39m hw1_helper\u001b[38;5;241m.\u001b[39mTrajectoryData(\u001b[38;5;124m\"\u001b[39m\u001b[38;5;124mtrain\u001b[39m\u001b[38;5;124m\"\u001b[39m)\n\u001b[1;32m      7\u001b[0m \u001b[38;5;66;03m# history_length = 3 # Number of backward steps considered to train\u001b[39;00m\n\u001b[1;32m      8\u001b[0m \u001b[38;5;66;03m# future_length = 3 # Number of forward considered to train\u001b[39;00m\n\u001b[1;32m      9\u001b[0m \u001b[38;5;66;03m# input_size = 10\u001b[39;00m\n\u001b[1;32m     10\u001b[0m \u001b[38;5;66;03m# output_size = 10\u001b[39;00m\n",
      "File \u001b[0;32m~/Documents/Decision Making and Control for Safe Autonomy/AA598-aut24/aa598/hw1_helper.py:21\u001b[0m, in \u001b[0;36m__init__\u001b[0;34m(self, filename)\u001b[0m\n\u001b[1;32m     19\u001b[0m     # wave_data = pickle.load(handle)\n\u001b[1;32m     20\u001b[0m     total = pickle.load(handle)\n\u001b[0;32m---> 21\u001b[0m # print(wave_data.shape)\n\u001b[1;32m     22\u001b[0m # futureVals = (total[:, 4:6]) # This is the future data 'y'\n\u001b[1;32m     23\u001b[0m self.future = torch.tensor(total['history'])) \n",
      "\u001b[0;31mKeyError\u001b[0m: (slice(None, None, None), slice(4, 6, None))"
     ]
    }
   ],
   "source": [
    "# feel free to poke around the data\n",
    "# THIS NEEDS TO BE REVIEWED\n",
    "test_data = hw1_helper.TrajectoryData(\"test\")\n",
    "train_data = hw1_helper.TrajectoryData(\"train\")\n",
    "\n",
    "\n",
    "# history_length = 3 # Number of backward steps considered to train\n",
    "# future_length = 3 # Number of forward considered to train\n",
    "# input_size = 10\n",
    "# output_size = 10\n"
   ]
  },
  {
   "cell_type": "code",
   "execution_count": 240,
   "metadata": {},
   "outputs": [
    {
     "name": "stdout",
     "output_type": "stream",
     "text": [
      "(tensor([[-2.2560e+00, -6.5145e-02, -1.2251e-01,  2.1580e-01, -8.4799e-02,\n",
      "          2.5851e-02, -1.0840e+00, -4.4290e-01,  1.6284e+00,  9.9145e-01,\n",
      "          1.5417e-01,  1.9350e-03],\n",
      "        [-2.2345e+00, -6.7781e-02, -1.2181e-01,  2.1691e-01,  1.1120e-02,\n",
      "          3.2786e-02, -1.0899e+00, -3.4377e-01,  1.6314e+00,  9.9463e-01,\n",
      "          3.1814e-02,  3.0392e-02],\n",
      "        [-2.2126e+00, -7.0457e-02, -1.2096e-01,  2.2509e-01,  8.1814e-02,\n",
      "          3.8355e-02, -1.0947e+00, -2.4435e-01,  1.6060e+00,  9.9610e-01,\n",
      "          1.4679e-02, -2.5000e-01],\n",
      "        [-2.1896e+00, -7.3242e-02, -1.1995e-01,  2.3845e-01,  1.3351e-01,\n",
      "          4.3240e-02, -1.0991e+00, -1.4367e-01,  1.6240e+00,  1.0194e+00,\n",
      "          2.3337e-01,  1.7746e-01],\n",
      "        [-2.1651e+00, -7.6183e-02, -1.1877e-01,  2.5554e-01,  1.7090e-01,\n",
      "          4.7833e-02, -1.1041e+00, -4.3102e-02,  1.6163e+00,  9.9444e-01,\n",
      "         -2.5000e-01, -7.6240e-02],\n",
      "        [-2.1387e+00, -7.9310e-02, -1.1738e-01,  2.7528e-01,  1.9750e-01,\n",
      "          5.2332e-02, -1.1097e+00,  5.6553e-02,  1.6383e+00,  1.0019e+00,\n",
      "          7.4677e-02,  2.1695e-01],\n",
      "        [-2.1103e+00, -8.2637e-02, -1.1576e-01,  2.9688e-01,  2.1596e-01,\n",
      "          5.6803e-02, -1.1177e+00,  1.5584e-01,  1.6638e+00,  9.9031e-01,\n",
      "         -1.1590e-01,  2.5000e-01],\n",
      "        [-2.0797e+00, -8.6169e-02, -1.1386e-01,  3.1971e-01,  2.2830e-01,\n",
      "          6.1236e-02, -1.1271e+00,  2.5474e-01,  1.6670e+00,  9.9652e-01,\n",
      "          6.2021e-02,  3.2864e-02],\n",
      "        [-2.0467e+00, -8.9900e-02, -1.1169e-01,  3.4331e-01,  2.3600e-01,\n",
      "          6.5572e-02, -1.1356e+00,  3.5425e-01,  1.6444e+00,  1.0011e+00,\n",
      "          4.5433e-02, -2.2289e-01],\n",
      "        [-2.0114e+00, -9.3816e-02, -1.0921e-01,  3.6733e-01,  2.4021e-01,\n",
      "          6.9732e-02, -1.1432e+00,  4.5532e-01,  1.6475e+00,  1.0261e+00,\n",
      "          2.5000e-01,  3.0066e-02],\n",
      "        [-1.9737e+00, -9.7899e-02, -1.0641e-01,  3.9151e-01,  2.4179e-01,\n",
      "          7.3631e-02, -1.1525e+00,  5.5856e-01,  1.6739e+00,  1.0470e+00,\n",
      "          2.0979e-01,  2.5000e-01],\n",
      "        [-1.9336e+00, -1.0212e-01, -1.0329e-01,  4.1565e-01,  2.4139e-01,\n",
      "          7.7189e-02, -1.1618e+00,  6.6159e-01,  1.6479e+00,  1.0220e+00,\n",
      "         -2.5000e-01, -2.4669e-01],\n",
      "        [-1.8910e+00, -1.0646e-01, -9.9843e-02,  4.3960e-01,  2.3950e-01,\n",
      "          8.0334e-02, -1.1709e+00,  7.6236e-01,  1.6737e+00,  1.0017e+00,\n",
      "         -2.0332e-01,  2.5000e-01],\n",
      "        [-1.8461e+00, -1.1087e-01, -9.6087e-02,  4.6325e-01,  2.3649e-01,\n",
      "          8.3012e-02, -1.1825e+00,  8.6231e-01,  1.6994e+00,  1.0107e+00,\n",
      "          8.9496e-02,  2.5000e-01],\n",
      "        [-1.7988e+00, -1.1533e-01, -9.2032e-02,  4.8651e-01,  2.3265e-01,\n",
      "          8.5183e-02, -1.1942e+00,  9.6345e-01,  1.6734e+00,  1.0258e+00,\n",
      "          1.5183e-01, -2.5000e-01],\n",
      "        [-1.7492e+00, -1.1980e-01, -8.7698e-02,  5.0933e-01,  2.2820e-01,\n",
      "          8.6823e-02, -1.2052e+00,  1.0660e+00,  1.6805e+00,  1.0363e+00,\n",
      "          1.0429e-01,  6.8469e-02]]), tensor([[-0.0848,  0.0259],\n",
      "        [ 0.0111,  0.0328],\n",
      "        [ 0.0818,  0.0384],\n",
      "        [ 0.1335,  0.0432],\n",
      "        [ 0.1709,  0.0478],\n",
      "        [ 0.1975,  0.0523],\n",
      "        [ 0.2160,  0.0568],\n",
      "        [ 0.2283,  0.0612],\n",
      "        [ 0.2360,  0.0656],\n",
      "        [ 0.2402,  0.0697],\n",
      "        [ 0.2418,  0.0736],\n",
      "        [ 0.2414,  0.0772],\n",
      "        [ 0.2395,  0.0803],\n",
      "        [ 0.2365,  0.0830],\n",
      "        [ 0.2326,  0.0852],\n",
      "        [ 0.2282,  0.0868]]))\n"
     ]
    }
   ],
   "source": [
    "# with open(\"data/hw1/wave_data_test.pickle\", 'rb') as handle:\n",
    "#     wave_data = pickle.load(handle)\n",
    "# print(wave_data['history'].shape)\n",
    "# print(wave_data['future'].shape)\n",
    "# print(wave_data['future'])\n",
    "print(test_data[:,:])\n",
    "# print(train_data[:, :])"
   ]
  },
  {
   "cell_type": "code",
   "execution_count": null,
   "metadata": {},
   "outputs": [],
   "source": []
  },
  {
   "cell_type": "code",
   "execution_count": null,
   "metadata": {},
   "outputs": [],
   "source": []
  },
  {
   "cell_type": "code",
   "execution_count": null,
   "metadata": {},
   "outputs": [],
   "source": []
  },
  {
   "cell_type": "code",
   "execution_count": 220,
   "metadata": {},
   "outputs": [],
   "source": [
    "    \n",
    "class LSTM(torch.nn.Module):\n",
    "    def __init__(self, input_dim, output_dim, hidden_dim):\n",
    "        super(LSTM, self).__init__()\n",
    "        self.input_dim = input_dim\n",
    "        self.output_dim = output_dim\n",
    "        self.hidden_dim = hidden_dim\n",
    "        \n",
    "        # HINT: Use Pytorch built-in functions for LSTM and Linear layers.\n",
    "        # HINT: batch dimension is dim=0\n",
    "\n",
    "        '''\n",
    "        looking at the code provided on pytorch\n",
    "\n",
    "        \n",
    "        nn.LSTM is looking for an input and an output without specifying that it is\n",
    "        being used as an encoder or a decoder so it can be reversed?\n",
    "\n",
    "        nn.Linear is a transformation that turn the output into a linearized equation where y = Ax + b\n",
    "            b is the bias\n",
    "            A is the weight\n",
    "            y is the output\n",
    "        '''\n",
    "        \n",
    "        # TODO: Define encoder LSTM.\n",
    "        self.encoder = torch.nn.LSTM(input_dim, hidden_dim, batch_first=True)\n",
    "        ############################\n",
    "        \n",
    "        \n",
    "        # TODO: Define decoder LSTM\n",
    "        self.decoder = torch.nn.LSTM(input_dim, hidden_dim, batch_first=True)\n",
    "        ############################\n",
    "        \n",
    "        \n",
    "        #TODO: Define linear project from hidden_dim to output_dim\n",
    "        # The output is a scalar but it needs to be an array [~,4]\n",
    "        self.projection = torch.nn.Linear(hidden_dim, output_dim, bias = False)\n",
    "        ############################\n",
    "        \n",
    "\n",
    "    def forward(self, x, t_max, y=None, prob=1.):\n",
    "        \"\"\"\n",
    "        Forward pass of the LSTM model.\n",
    "        x: The input sequence [batch_size, seq_len, input_dim]\n",
    "        t_max: maximum time steps to unroll\n",
    "        y: The target sequence for teacher forcing (optional, used if teacher forcing is applied) [batch_size, t_max, output_dim]\n",
    "        prob: Probability to apply teacher forcing (0 to 1). 1 means 100% teacher forcing, \n",
    "        \"\"\"\n",
    "        \n",
    "        # making sure x and y is the appropriate size.\n",
    "        if len(x.shape) == 2:\n",
    "            x = x.unsqueeze(-1)\n",
    "        if y is not None and len(y.shape) == 2:\n",
    "            y = y.unsqueeze(-1)\n",
    "        \n",
    "        \n",
    "        ys = [] # collect outputs\n",
    "        # TODO: Run input through encoder to get initial hidden state for decoder\n",
    "        _, h = self.encoder(x)\n",
    "        ############################\n",
    "        \n",
    "        \n",
    "        # TODO: initial state for decoder is last input state\n",
    "        y_input = x[:,-1, :]\n",
    "        y_input = y_input.unsqueeze(1)\n",
    "        ############################\n",
    "        \n",
    "\n",
    "        # TODO: unroll decoder \n",
    "        # TODO: if eval or no teacher forcing, use prediction from previous step\n",
    "        # TODO: if train and using teacher forcing, use prob to determine whether to use ground truth or previous prediction\n",
    "        \n",
    "        ############################\n",
    "        for i in range(t_max):\n",
    "            output, h = self.decoder(y_input, h)\n",
    "            output = self.projection(output)\n",
    "            # TODO: y_input = ...?\n",
    "            random = torch.rand([1, 1])\n",
    "            if random >= 0.7:\n",
    "                y_input = output\n",
    "            else:\n",
    "                y_input = y_input\n",
    "            # y_input = output\n",
    "            ys.append(output.squeeze(1))\n",
    "        ys = torch.cat(ys, dim=1)\n",
    "    \n",
    "        \n",
    "        return ys # [batch_size, ts_max, output_dim]"
   ]
  },
  {
   "cell_type": "code",
   "execution_count": 224,
   "metadata": {},
   "outputs": [],
   "source": [
    "hidden_size = 1\n",
    "future_length = 2\n",
    "input_size = 1\n",
    "output_size = 1\n",
    "\n",
    "model = LSTM(input_size, output_size, hidden_size)\n",
    "\n",
    "learning_rate = 0.001\n",
    "num_epochs = 10\n",
    "batch_size = 32\n",
    "train_dataloader = DataLoader(train_data, batch_size=batch_size, shuffle=True)\n",
    "prob = 0.\n",
    "\n",
    "optimizer = torch.optim.Adam(model.parameters(), lr=learning_rate)\n",
    "criterion = torch.nn.MSELoss()\n",
    "\n",
    "\n",
    "def prob_schedule(i):\n",
    "    return 1 - jax.nn.sigmoid(20 * (i - 0.5)).item()\n",
    "\n"
   ]
  },
  {
   "cell_type": "code",
   "execution_count": 225,
   "metadata": {},
   "outputs": [
    {
     "name": "stdout",
     "output_type": "stream",
     "text": [
      "Epoch [1/10], Step [0/1], Loss: 0.3988\n",
      "Epoch 1 completed with average loss: 0.3988\n",
      "Epoch [2/10], Step [0/1], Loss: 0.4038\n",
      "Epoch 2 completed with average loss: 0.4038\n",
      "Epoch [3/10], Step [0/1], Loss: 0.4023\n",
      "Epoch 3 completed with average loss: 0.4023\n",
      "Epoch [4/10], Step [0/1], Loss: 0.4008\n",
      "Epoch 4 completed with average loss: 0.4008\n",
      "Epoch [5/10], Step [0/1], Loss: 0.3931\n",
      "Epoch 5 completed with average loss: 0.3931\n",
      "Epoch [6/10], Step [0/1], Loss: 0.3978\n",
      "Epoch 6 completed with average loss: 0.3978\n",
      "Epoch [7/10], Step [0/1], Loss: 0.3963\n",
      "Epoch 7 completed with average loss: 0.3963\n",
      "Epoch [8/10], Step [0/1], Loss: 0.3948\n",
      "Epoch 8 completed with average loss: 0.3948\n",
      "Epoch [9/10], Step [0/1], Loss: 0.3874\n",
      "Epoch 9 completed with average loss: 0.3874\n",
      "Epoch [10/10], Step [0/1], Loss: 0.3860\n",
      "Epoch 10 completed with average loss: 0.3860\n",
      "Training finished!\n"
     ]
    }
   ],
   "source": [
    "# we use a slightly different training loop to account for teacher forcing\n",
    "for epoch in range(num_epochs):\n",
    "    model.train()  # Set model to training mode\n",
    "    running_loss = 0.0\n",
    "    prob = prob_schedule((epoch + 1)/num_epochs)\n",
    "    for batch_idx, (data, target) in enumerate(train_dataloader):\n",
    "        optimizer.zero_grad()        # Zero the gradients\n",
    "        output = model(data, future_length, target, prob)         # Forward pass\n",
    "        loss = criterion(output, target)  # Compute loss\n",
    "        loss.backward()              # Backpropagation\n",
    "        optimizer.step()             # Update weights\n",
    "\n",
    "        running_loss += loss.item()\n",
    "        if batch_idx % 100 == 0:\n",
    "            print(f'Epoch [{epoch+1}/{num_epochs}], Step [{batch_idx}/{len(train_dataloader)}], Loss: {loss.item():.4f}')\n",
    "\n",
    "    print(f'Epoch {epoch+1} completed with average loss: {running_loss/len(train_dataloader):.4f}')\n",
    "\n",
    "print(\"Training finished!\")\n"
   ]
  },
  {
   "cell_type": "code",
   "execution_count": 226,
   "metadata": {},
   "outputs": [
    {
     "name": "stdout",
     "output_type": "stream",
     "text": [
      "Test Loss: 0.0356\n"
     ]
    },
    {
     "data": {
      "application/vnd.jupyter.widget-view+json": {
       "model_id": "a27e47b7129948129accdc04da0e7b63",
       "version_major": 2,
       "version_minor": 0
      },
      "text/plain": [
       "interactive(children=(IntSlider(value=0, description='Index:', max=15), Output()), _dom_classes=('widget-inter…"
      ]
     },
     "metadata": {},
     "output_type": "display_data"
    },
    {
     "data": {
      "text/plain": [
       "<function aa598.hw1_helper.plot_data_regression(history, future, prediction, index, xlims=[-11, 5], ylims=[-2, 2])>"
      ]
     },
     "execution_count": 226,
     "metadata": {},
     "output_type": "execute_result"
    }
   ],
   "source": [
    "# evaluate on a test set. \n",
    "model.eval()\n",
    "test_dataloader = DataLoader(test_data, batch_size=len(test_data), shuffle=False)\n",
    "for (history, future) in test_dataloader:\n",
    "    prediction = model(history, future_length)         # Forward pass\n",
    "    loss = criterion(prediction, future)  # Compute loss\n",
    "    \n",
    "# print out test loss\n",
    "print(f'Test Loss: {loss.item():.4f}')\n",
    "\n",
    "\n",
    "# try with different prediction horizons\n",
    "prediction_horizon = 2\n",
    "prediction = model(history, prediction_horizon)\n",
    "\n",
    "\n",
    "# Visualize prediction on test data\n",
    "test_dataloader = list(DataLoader(test_data, batch_size=1, shuffle=False))\n",
    "index_slider = widgets.IntSlider(value=0, min=0, max=len(test_dataloader)-1, step=1, description='Index:')\n",
    "xlims = [-11, prediction_horizon + 2]\n",
    "ylims = [-5,5]\n",
    "interact(hw1_helper.plot_data_regression, history=widgets.fixed(history), future=widgets.fixed(future), prediction=widgets.fixed(prediction), index=index_slider, xlims=widgets.fixed(xlims), ylims=widgets.fixed(ylims))\n",
    "\n"
   ]
  },
  {
   "cell_type": "code",
   "execution_count": 231,
   "metadata": {
    "scrolled": true
   },
   "outputs": [
    {
     "name": "stdout",
     "output_type": "stream",
     "text": [
      "tensor([0.1905, 0.1934, 0.1467, 0.2180, 0.1735, 0.2213, 0.2233, 0.1944, 0.1521,\n",
      "        0.1967, 0.2283, 0.1451, 0.2225, 0.2265, 0.1489, 0.2009],\n",
      "       grad_fn=<SelectBackward0>)\n",
      "tensor([0.2910, 0.2951, 0.2396, 0.3194, 0.2745, 0.3238, 0.3271, 0.2959, 0.2460,\n",
      "        0.2967, 0.3293, 0.2392, 0.3267, 0.3285, 0.2408, 0.3023],\n",
      "       grad_fn=<SelectBackward0>)\n"
     ]
    }
   ],
   "source": [
    "print(prediction[:, 0])\n",
    "print(prediction[:, 1])"
   ]
  },
  {
   "cell_type": "code",
   "execution_count": 227,
   "metadata": {},
   "outputs": [
    {
     "data": {
      "text/plain": [
       "[<matplotlib.lines.Line2D at 0x32a20fad0>]"
      ]
     },
     "execution_count": 227,
     "metadata": {},
     "output_type": "execute_result"
    },
    {
     "data": {
      "image/png": "[encoded data removed]",
      "text/plain": [
       "<Figure size 640x480 with 1 Axes>"
      ]
     },
     "metadata": {},
     "output_type": "display_data"
    }
   ],
   "source": [
    "t = np.linspace(0,16, 16)\n",
    "# plt.plot(t, prediction[:, 0].detach().numpy())\n",
    "plt.plot(prediction[:, 0].detach().numpy(), prediction[:, 1].detach().numpy())"
   ]
  },
  {
   "cell_type": "code",
   "execution_count": 116,
   "metadata": {},
   "outputs": [
    {
     "data": {
      "text/plain": [
       "Text(0, 0.5, 'y axis')"
      ]
     },
     "execution_count": 116,
     "metadata": {},
     "output_type": "execute_result"
    },
    {
     "data": {
      "image/png": "[encoded data removed]",
      "text/plain": [
       "<Figure size 640x480 with 1 Axes>"
      ]
     },
     "metadata": {},
     "output_type": "display_data"
    }
   ],
   "source": [
    "t = jnp.arange(0, len(trainXPosition), 1)\n",
    "j = jnp.arange(0, len(testXPosition), 1)\n",
    "plt.scatter(t, trainXPosition, color='b')\n",
    "plt.scatter(j+len(trainXPosition), testXPosition , color = 'k')\n",
    "# plt.scatter(j+len(trainXPosition), prediction)\n",
    "plt.xlabel('x axis')\n",
    "plt.ylabel('y axis')"
   ]
  },
  {
   "cell_type": "code",
   "execution_count": 52,
   "metadata": {},
   "outputs": [
    {
     "data": {
      "image/png": "[encoded data removed]",
      "text/plain": [
       "<Figure size 1800x800 with 2 Axes>"
      ]
     },
     "metadata": {},
     "output_type": "display_data"
    },
    {
     "data": {
      "application/vnd.jupyter.widget-view+json": {
       "model_id": "32339d3be3db4269ab5211ee4d3e1459",
       "version_major": 2,
       "version_minor": 0
      },
      "text/plain": [
       "interactive(children=(IntSlider(value=14, description='i', max=29), Output()), _dom_classes=('widget-interact'…"
      ]
     },
     "metadata": {},
     "output_type": "display_data"
    }
   ],
   "source": [
    "# plotting\n",
    "@interact(i=(0,num_time_steps-1))\n",
    "def plot(i):\n",
    "    fig, axs = plt.subplots(1,2, figsize=(18,8))\n",
    "    ax = axs[0]\n",
    "    robot_position = train_data[i]\n",
    "    circle1 = plt.Circle(robot_position, radius / 2, color='C0', alpha=0.4)\n",
    "    ax.add_patch(circle1)\n",
    "    ax.add_patch(circle2)\n",
    "    # ax.plot(human_samples[i,:,:,0].T, human_samples[i,:,:,1].T, \"o-\", alpha=0.1, markersize=2, color='C1')\n",
    "    ax.plot(train_data[0], train_data[1], \"o-\", markersize=3, color='C0')\n",
    "    ax.plot(train_data[i][0], train_data[i][1], \"o-\", markersize=3, color='C2', label=\"planned\")\n",
    "    ax.scatter(train_data[i:i+1], train_data[i:i+1], s=30,  color='C0', label=\"Robot\")\n",
    "    ax.grid()\n",
    "    ax.legend()\n",
    "\n",
    "    ax.set_xlim([-4,4])\n",
    "    ax.set_ylim([-3, 2])\n",
    "    ax.axis(\"equal\")\n",
    "\n",
    "    ax.set_title(\"heading=%.2f velocity=%.2f\"%(robot_trajectory[i,2], robot_trajectory[i,3]))"
   ]
  },
  {
   "cell_type": "code",
   "execution_count": null,
   "metadata": {},
   "outputs": [],
   "source": []
  }
 ],
 "metadata": {
  "kernelspec": {
   "display_name": "Python 3 (ipykernel)",
   "language": "python",
   "name": "python3"
  },
  "language_info": {
   "codemirror_mode": {
    "name": "ipython",
    "version": 3
   },
   "file_extension": ".py",
   "mimetype": "text/x-python",
   "name": "python",
   "nbconvert_exporter": "python",
   "pygments_lexer": "ipython3",
   "version": "3.12.6"
  }
 },
 "nbformat": 4,
 "nbformat_minor": 4
}
